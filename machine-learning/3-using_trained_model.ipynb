{
 "cells": [
  {
   "cell_type": "markdown",
   "id": "16ecefc662917f37",
   "metadata": {},
   "source": [
    "## Using the model created before for prediction with single VCF"
   ]
  },
  {
   "cell_type": "code",
   "execution_count": null,
   "id": "c1fbadc12e05ddda",
   "metadata": {
    "ExecuteTime": {
     "end_time": "2024-05-10T08:36:34.597582Z",
     "start_time": "2024-05-10T08:36:34.590753Z"
    }
   },
   "outputs": [],
   "source": [
    "#TODO: load in the model"
   ]
  },
  {
   "cell_type": "code",
   "execution_count": null,
   "id": "48695ef369e50b2c",
   "metadata": {
    "ExecuteTime": {
     "end_time": "2024-05-10T08:39:59.837794Z",
     "start_time": "2024-05-10T08:39:59.829875Z"
    }
   },
   "outputs": [],
   "source": [
    "#TODO: load in the VCF file"
   ]
  },
  {
   "cell_type": "code",
   "execution_count": null,
   "id": "490dea0bbc78ea11",
   "metadata": {},
   "outputs": [],
   "source": []
  }
 ],
 "metadata": {
  "kernelspec": {
   "display_name": "Python 3",
   "language": "python",
   "name": "python3"
  },
  "language_info": {
   "codemirror_mode": {
    "name": "ipython",
    "version": 2
   },
   "file_extension": ".py",
   "mimetype": "text/x-python",
   "name": "python",
   "nbconvert_exporter": "python",
   "pygments_lexer": "ipython2",
   "version": "2.7.6"
  }
 },
 "nbformat": 4,
 "nbformat_minor": 5
}
